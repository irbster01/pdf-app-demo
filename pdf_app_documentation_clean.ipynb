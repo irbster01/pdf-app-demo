{
 "cells": [
  {
   "cell_type": "markdown",
   "id": "962fc927",
   "metadata": {},
   "source": [
    "# PDF App — Project Documentation & Repro Steps (CLEAN)\n",
    "\n",
    "This notebook is cleaned for cloud sharing. It does **not** contain any secrets.\n",
    "\n",
    "It reads two environment variables:\n",
    "- `PDF_API_URL` — the public endpoint for your PDF fill service (e.g. https://api.example.com/fill)\n",
    "- `PDF_API_TOKEN` — the bearer token for the service (set locally or in the runtime prior to running the test cell)\n",
    "\n",
    "----\n"
   ]
  },
  {
   "cell_type": "markdown",
   "id": "5ade3403",
   "metadata": {},
   "source": [
    "## Overview\n",
    "\n",
    "- Purpose: provide a runnable demo & documentation of the PDF fill service.\n",
    "- Use this notebook for demos, testing, and capturing run steps.\n",
    "\n"
   ]
  },
  {
   "cell_type": "code",
   "execution_count": null,
   "id": "b8dae904",
   "metadata": {},
   "outputs": [],
   "source": [
    "# Auto-install helper packages into the kernel's Python environment (safe to run)\n",
    "import sys, subprocess, pkgutil\n",
    "for pkg in ('requests','ipykernel'):\n",
    "    if pkgutil.find_loader(pkg) is None:\n",
    "        print(f\"Installing {pkg}...\")\n",
    "        subprocess.check_call([sys.executable, \"-m\", \"pip\", \"install\", pkg])\n",
    "    else:\n",
    "        print(f\"{pkg} already installed.\")\n"
   ]
  },
  {
   "cell_type": "markdown",
   "id": "0c49c8e7",
   "metadata": {},
   "source": [
    "## API Reference\n",
    "\n",
    "This notebook expects the PDF service to accept a JSON body like:\n",
    "\n",
    "```\n",
    "{\n",
    "  \"templateId\": \"intake_v1\",\n",
    "  \"fields\": {\"client_first_name\":\"Test\",\"client_last_name\":\"User\",\"DOB\":\"01/01/1990\"}\n",
    "}\n",
    "```\n",
    "\n",
    "The service should return JSON with either `pdfBase64` (base64-encoded PDF) or `sharepointUrl`.\n",
    "\n"
   ]
  },
  {
   "cell_type": "code",
   "execution_count": null,
   "id": "bbb96ed2",
   "metadata": {},
   "outputs": [],
   "source": [
    "# Test client that reads endpoint and token from environment variables\n",
    "import os, requests, base64, json\n",
    "from IPython.display import IFrame, display\n",
    "\n",
    "SERVICE_URL = os.environ.get('PDF_API_URL', '').strip()\n",
    "TOKEN = os.environ.get('PDF_API_TOKEN', '').strip()\n",
    "\n",
    "if not SERVICE_URL:\n",
    "    raise RuntimeError(\"Please set the environment variable PDF_API_URL to your service endpoint. Example: export PDF_API_URL='https://api.example.com/fill'\")\n",
    "\n",
    "HEADERS = {\"Content-Type\": \"application/json\"}\n",
    "if TOKEN:\n",
    "    HEADERS[\"Authorization\"] = f\"Bearer {TOKEN}\"\n",
    "else:\n",
    "    print('Warning: No PDF_API_TOKEN set. If your service requires auth, set PDF_API_TOKEN before running.')\n",
    "\n",
    "payload = {\n",
    "    \"templateId\": \"intake_v1\",\n",
    "    \"fields\": {\n",
    "        \"client_first_name\": \"Test\",\n",
    "        \"client_last_name\": \"User\",\n",
    "        \"DOB\": \"01/01/1990\"\n",
    "    }\n",
    "}\n",
    "\n",
    "print('Posting to', SERVICE_URL)\n",
    "r = requests.post(SERVICE_URL, json=payload, headers=HEADERS, timeout=30)\n",
    "print('Status code:', r.status_code)\n",
    "\n",
    "try:\n",
    "    data = r.json()\n",
    "except Exception:\n",
    "    print('Non-JSON response:', r.text)\n",
    "    raise\n",
    "\n",
    "if data.get('pdfBase64'):\n",
    "    b64 = data['pdfBase64']\n",
    "    pdf_bytes = base64.b64decode(b64)\n",
    "    out_path = 'test_output.pdf'\n",
    "    with open(out_path, 'wb') as f:\n",
    "        f.write(pdf_bytes)\n",
    "    print('Saved PDF to', out_path)\n",
    "    try:\n",
    "        display(IFrame(out_path, width=700, height=400))\n",
    "    except Exception as e:\n",
    "        print('Could not display PDF inline:', e)\n",
    "elif data.get('sharepointUrl'):\n",
    "    print('PDF uploaded to SharePoint at:', data['sharepointUrl'])\n",
    "else:\n",
    "    print('Response JSON:', json.dumps(data, indent=2))\n"
   ]
  },
  {
   "cell_type": "markdown",
   "id": "22bd156a",
   "metadata": {},
   "source": [
    "## Power Automate Notes\n",
    "\n",
    "- Normalize dates before sending to the API.\n",
    "- Avoid long `apply to each` loops; batch requests when possible.\n",
    "\n"
   ]
  },
  {
   "cell_type": "markdown",
   "id": "8cc92dec",
   "metadata": {},
   "source": [
    "## Troubleshooting\n",
    "\n",
    "- If requests fails with SSL errors and you're using self-signed certs, either use a trusted cert or configure client accordingly.\n",
    "\n"
   ]
  },
  {
   "cell_type": "markdown",
   "id": "1a944378",
   "metadata": {},
   "source": [
    "## Next steps / TODO\n",
    "\n",
    "- Add real template mapping files.\n",
    "- Add CI smoke test to call the endpoint and verify a PDF is produced.\n"
   ]
  }
 ],
 "metadata": {
  "kernelspec": {
   "display_name": "Python 3 (ipykernel)",
   "language": "python",
   "name": "python3"
  },
  "language_info": {
   "codemirror_mode": {
    "name": "ipython",
    "version": 3
   },
   "file_extension": ".py",
   "mimetype": "text/x-python",
   "name": "python",
   "nbconvert_exporter": "python",
   "pygments_lexer": "ipython3",
   "version": "3.13.7"
  }
 },
 "nbformat": 4,
 "nbformat_minor": 5
}
